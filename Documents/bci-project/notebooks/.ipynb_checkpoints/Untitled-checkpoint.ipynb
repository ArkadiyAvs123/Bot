{
 "cells": [
  {
   "cell_type": "code",
   "execution_count": 2,
   "id": "5e8ec13b-e03b-4fac-a52d-ccaa9d27860b",
   "metadata": {},
   "outputs": [
    {
     "ename": "ModuleNotFoundError",
     "evalue": "No module named 'mne'",
     "output_type": "error",
     "traceback": [
      "\u001b[31m---------------------------------------------------------------------------\u001b[39m",
      "\u001b[31mModuleNotFoundError\u001b[39m                       Traceback (most recent call last)",
      "\u001b[36mCell\u001b[39m\u001b[36m \u001b[39m\u001b[32mIn[2]\u001b[39m\u001b[32m, line 1\u001b[39m\n\u001b[32m----> \u001b[39m\u001b[32m1\u001b[39m \u001b[38;5;28;01mimport\u001b[39;00m\u001b[38;5;250m \u001b[39m\u001b[34;01mmne\u001b[39;00m\n\u001b[32m      2\u001b[39m raw = mne.io.read_raw_edf(\u001b[33m\"\u001b[39m\u001b[33m../data/S001R01.edf\u001b[39m\u001b[33m\"\u001b[39m, preload=\u001b[38;5;28;01mTrue\u001b[39;00m)\n\u001b[32m      3\u001b[39m raw.filter(\u001b[32m1.\u001b[39m, \u001b[32m40.\u001b[39m, fir_design=\u001b[33m'\u001b[39m\u001b[33mfirwin\u001b[39m\u001b[33m'\u001b[39m)\n",
      "\u001b[31mModuleNotFoundError\u001b[39m: No module named 'mne'"
     ]
    }
   ],
   "source": [
    "import mne\n",
    "raw = mne.io.read_raw_edf(\"../data/S001R01.edf\", preload=True)\n",
    "raw.filter(1., 40., fir_design='firwin')\n",
    "raw.plot(n_channels=8, duration=5, scalings='auto')\n"
   ]
  },
  {
   "cell_type": "code",
   "execution_count": null,
   "id": "96e2fb0d-7101-450b-abc4-05e95d23e82f",
   "metadata": {},
   "outputs": [],
   "source": []
  }
 ],
 "metadata": {
  "kernelspec": {
   "display_name": "Python 3 (ipykernel)",
   "language": "python",
   "name": "python3"
  },
  "language_info": {
   "codemirror_mode": {
    "name": "ipython",
    "version": 3
   },
   "file_extension": ".py",
   "mimetype": "text/x-python",
   "name": "python",
   "nbconvert_exporter": "python",
   "pygments_lexer": "ipython3",
   "version": "3.13.3"
  }
 },
 "nbformat": 4,
 "nbformat_minor": 5
}
