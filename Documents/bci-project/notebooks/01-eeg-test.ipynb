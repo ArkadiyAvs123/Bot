{
 "cells": [
  {
   "cell_type": "code",
   "execution_count": null,
   "id": "663b5fc3-9428-4bc9-a8fd-be92076caf61",
   "metadata": {},
   "outputs": [],
   "source": [
    "%matplotlib qt\n",
    "\n"
   ]
  },
  {
   "cell_type": "code",
   "execution_count": null,
   "id": "dfa9545a-54ee-4896-ace7-c40c8ed060d7",
   "metadata": {},
   "outputs": [],
   "source": [
    "import mne\n",
    "raw = mne.io.read_raw_edf(\"../data/S001R01.edf\", preload=True)\n",
    "raw.filter(1., 40., fir_design='firwin')\n",
    "raw.plot(n_channels=8, duration=5, scalings='auto')\n"
   ]
  },
  {
   "cell_type": "code",
   "execution_count": null,
   "id": "f6361904-f5e1-459a-8b32-3c2ab93a040d",
   "metadata": {},
   "outputs": [],
   "source": []
  }
 ],
 "metadata": {
  "kernelspec": {
   "display_name": "Python 3 (BCI)",
   "language": "python",
   "name": "bci-env"
  },
  "language_info": {
   "name": ""
  }
 },
 "nbformat": 4,
 "nbformat_minor": 5
}
